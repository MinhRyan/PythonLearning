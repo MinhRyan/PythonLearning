{
 "cells": [
  {
   "cell_type": "code",
   "execution_count": 17,
   "id": "12fb2d42",
   "metadata": {},
   "outputs": [
    {
     "name": "stdout",
     "output_type": "stream",
     "text": [
      "Nhập n: 8\n",
      "Tuple1:  (0, 4, 7, 8, 7, 1, 0, 8)\n",
      "Tuple2:  (0, 8, 14, 16, 14, 2, 0, 16)\n",
      "List dup:  (0, 8)\n"
     ]
    }
   ],
   "source": [
    "#Tạo tuple1 có n phần tử. \n",
    "#Từ tuple1 tạo ra tuple2 cũng có n phần tử với mỗi phần tử ở vị trí tương ứng có giá trị x2 ở tuple1\n",
    "#Tìm ra các phần tử xuất hiện ở cả 2 tuple\n",
    "\n",
    "import random\n",
    "n = int(input('Nhập n: ')) \n",
    "\n",
    "list1 = [] \n",
    "for i in range(n):\n",
    "    list1.append(random.choice([i for i in range(10)]))\n",
    "print('Tuple1: ', tuple(list1))\n",
    "\n",
    "list2 = [] \n",
    "for i in list1:\n",
    "    list2.append(i*2)\n",
    "print('Tuple2: ', tuple(list2))\n",
    "\n",
    "list_dup = []\n",
    "for i in list1:\n",
    "    if i in list2 and i not in list_dup:\n",
    "        list_dup.append(i)\n",
    "\n",
    "print('List dup: ',tuple(list_dup))"
   ]
  },
  {
   "cell_type": "code",
   "execution_count": 25,
   "id": "2c86b412",
   "metadata": {},
   "outputs": [
    {
     "name": "stdout",
     "output_type": "stream",
     "text": [
      "Nhập m: 5\n",
      "Nhập n: 2\n",
      "List A:  [[4, 4], [7, 4], [9, 7], [3, 3], [1, 7]]\n",
      "List A_tb:  [4.0, 5.5, 8.0, 3.0, 4.0]\n"
     ]
    }
   ],
   "source": [
    "#Tạo list A gồm m phần tử, mỗi phần tử của list A là 1 list khác gồm n phần tử là các số tự nhiên\n",
    "#Tính giá trị trung bình mỗi phần tử trong list A\n",
    "import random\n",
    "m = int(input('Nhập m: ')) \n",
    "n = int(input('Nhập n: ')) \n",
    "\n",
    "listA = []\n",
    "for i in range(m):\n",
    "    temp = []\n",
    "    for j in range(n):\n",
    "        temp.append(random.choice([i for i in range(10)]))\n",
    "    listA.append(temp)\n",
    "print('List A: ', listA)\n",
    "\n",
    "list_avg = []\n",
    "for i in listA:\n",
    "    sum = 0\n",
    "    for j in i:\n",
    "        sum += j\n",
    "    list_avg.append(sum/len(i))\n",
    "print('List A_tb: ',list_avg)"
   ]
  }
 ],
 "metadata": {
  "kernelspec": {
   "display_name": "Python 3 (ipykernel)",
   "language": "python",
   "name": "python3"
  },
  "language_info": {
   "codemirror_mode": {
    "name": "ipython",
    "version": 3
   },
   "file_extension": ".py",
   "mimetype": "text/x-python",
   "name": "python",
   "nbconvert_exporter": "python",
   "pygments_lexer": "ipython3",
   "version": "3.9.7"
  }
 },
 "nbformat": 4,
 "nbformat_minor": 5
}
