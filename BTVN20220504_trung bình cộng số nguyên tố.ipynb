{
 "cells": [
  {
   "cell_type": "code",
   "execution_count": 15,
   "id": "8ee7063b",
   "metadata": {},
   "outputs": [
    {
     "name": "stdout",
     "output_type": "stream",
     "text": [
      "Nhập số nguyên dương: 1 3 7\n",
      "Trung bình các số nguyên tố trong chuỗi:  5.0\n"
     ]
    }
   ],
   "source": [
    "#Hàm số nguyên tố\n",
    "def nguyento(num):\n",
    "    if num <2:\n",
    "        return False\n",
    "    else:\n",
    "        for i in range(2, int(num/2)+1):\n",
    "            if num%i == 0:\n",
    "                return False\n",
    "        return True\n",
    "\n",
    "#Nhập số liệu\n",
    "text = input('Nhập số nguyên dương: ')\n",
    "dayso = text.split()\n",
    "sum = 0\n",
    "count = 0\n",
    "for i in dayso:\n",
    "    if nguyento(int(i)):\n",
    "        sum += int(i)\n",
    "        count += 1\n",
    "\n",
    "avg = sum/count\n",
    "print('Trung bình các số nguyên tố trong chuỗi: ', avg)"
   ]
  }
 ],
 "metadata": {
  "kernelspec": {
   "display_name": "Python 3 (ipykernel)",
   "language": "python",
   "name": "python3"
  },
  "language_info": {
   "codemirror_mode": {
    "name": "ipython",
    "version": 3
   },
   "file_extension": ".py",
   "mimetype": "text/x-python",
   "name": "python",
   "nbconvert_exporter": "python",
   "pygments_lexer": "ipython3",
   "version": "3.9.7"
  }
 },
 "nbformat": 4,
 "nbformat_minor": 5
}
