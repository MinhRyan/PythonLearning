{
 "cells": [
  {
   "cell_type": "code",
   "execution_count": 15,
   "id": "8ee7063b",
   "metadata": {},
   "outputs": [
    {
     "name": "stdout",
     "output_type": "stream",
     "text": [
      "Nhập số nguyên dương: 1 3 7\n",
      "Trung bình các số nguyên tố trong chuỗi:  5.0\n"
     ]
    }
   ],
   "source": [
    "#Hàm số nguyên tố\n",
    "def nguyento(num):\n",
    "    if num <2:\n",
    "        return False\n",
    "    else:\n",
    "        for i in range(2, int(num/2)+1):\n",
    "            if num%i == 0:\n",
    "                return False\n",
    "        return True\n",
    "\n",
    "#Nhập số liệu\n",
    "text = input('Nhập số nguyên dương: ')\n",
    "dayso = text.split()\n",
    "sum = 0\n",
    "count = 0\n",
    "for i in dayso:\n",
    "    if nguyento(int(i)):\n",
    "        sum += int(i)\n",
    "        count += 1\n",
    "\n",
    "avg = sum/count\n",
    "print('Trung bình các số nguyên tố trong chuỗi: ', avg)"
   ]
  },
  {
   "cell_type": "code",
   "execution_count": 11,
   "id": "bbf71e2e",
   "metadata": {},
   "outputs": [
    {
     "name": "stdout",
     "output_type": "stream",
     "text": [
      "Nhập thời gian làm việc: 6-7, 9-12.5, 12.5-14, 13-18\n",
      "Tổng giờ làm = 11.0\n"
     ]
    }
   ],
   "source": [
    "'''Thời gian làm việc của nhân viên.\n",
    "    - Input: 6-7, 9-12.5, 12.5-14, 13-18\n",
    "    - Output: 2 + 2 + 0.5 + 5 = 9.5h'''\n",
    "\n",
    "text_input = input('Nhập thời gian làm việc: ').split(',')\n",
    "sum = 0\n",
    "for i in text_input:\n",
    "    text_new = i.split('-')\n",
    "    sum +=float(text_new[1]) - float(text_new[0])\n",
    "    \n",
    "\n",
    "\n",
    "print('Tổng giờ làm =', sum)"
   ]
  }
 ],
 "metadata": {
  "kernelspec": {
   "display_name": "Python 3 (ipykernel)",
   "language": "python",
   "name": "python3"
  },
  "language_info": {
   "codemirror_mode": {
    "name": "ipython",
    "version": 3
   },
   "file_extension": ".py",
   "mimetype": "text/x-python",
   "name": "python",
   "nbconvert_exporter": "python",
   "pygments_lexer": "ipython3",
   "version": "3.9.7"
  }
 },
 "nbformat": 4,
 "nbformat_minor": 5
}
